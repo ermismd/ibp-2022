{
 "cells": [
  {
   "cell_type": "code",
   "execution_count": 1,
   "id": "a731c63d-5272-46dd-8e20-e49d2686ceca",
   "metadata": {},
   "outputs": [],
   "source": [
    "import os\n",
    "import scenicplus\n",
    "import scanpy as sc\n",
    "import warnings\n",
    "import pandas as pd\n",
    "import matplotlib as mpl\n",
    "import pickle\n",
    "import dill\n",
    "import sys\n",
    "\n",
    "warnings.simplefilter(action='ignore', category=FutureWarning)\n",
    "%matplotlib inline\n",
    "sc.settings.set_figure_params(dpi=80, frameon=False, figsize=(5, 5), facecolor='white')\n",
    "\n",
    "work_dir = '/data/leuven/345/vsc34561/ibp-2022-data/'\n",
    "rnaseq_dir = work_dir + 'sn_rna_seq/'\n",
    "rnaseq_output = rnaseq_dir + 'processed/'\n",
    "atacseq_dir = work_dir + 'sn_atac_seq/'\n",
    "state_dir = work_dir + 'state/'\n",
    "archive_dir = state_dir + 'archive/'\n",
    "local_state_dir = '/data/leuven/338/vsc33838/mirror/state'\n",
    "motif_path = '/data/leuven/338/vsc33838/mirror/state/motifs/'\n",
    "scratch_dir = os.getenv('VSC_SCRATCH')"
   ]
  },
  {
   "cell_type": "code",
   "execution_count": 2,
   "id": "b17a3db3-5cff-4d55-a7bc-db2abfd3de31",
   "metadata": {},
   "outputs": [],
   "source": [
    "adata = sc.read_h5ad(os.path.join(state_dir, 'alzheimers.h5ad'))\n",
    "cistopic_obj = dill.load(open(os.path.join(state_dir, 'cistopic_obj.pkl'), 'rb'))\n",
    "menr = dill.load(open(os.path.join(motif_path, 'menr.pkl'), 'rb'))"
   ]
  },
  {
   "cell_type": "code",
   "execution_count": 3,
   "id": "4ec582d1-7575-45fe-acf0-29a7570068a1",
   "metadata": {},
   "outputs": [
    {
     "name": "stdout",
     "output_type": "stream",
     "text": [
      "2022-11-11 11:14:43,925 cisTopic     INFO     Imputing drop-outs\n",
      "2022-11-11 11:15:24,369 cisTopic     INFO     Scaling\n",
      "2022-11-11 11:16:20,829 cisTopic     INFO     Keep non zero rows\n",
      "2022-11-11 11:17:31,955 cisTopic     INFO     Imputed accessibility sparsity: 0.7658145431815311\n",
      "2022-11-11 11:17:31,958 cisTopic     INFO     Create CistopicImputedFeatures object\n",
      "2022-11-11 11:17:31,959 cisTopic     INFO     Making matrix sparse\n",
      "2022-11-11 11:23:24,541 cisTopic     INFO     Done!\n",
      "2022-11-11 11:23:24,771 create scenicplus object INFO     Following annotations were found in both assays under key celltype:\n",
      "\tINH, MG, EX, ODC, OPC, PER.END, ASC.\n",
      "Keeping 60082 cells for RNA and 31142 for ATAC.\n",
      "2022-11-11 11:24:46,983 create scenicplus object INFO     Automatically set `nr_metacells` to: ASC: 1860, EX: 594, INH: 532, MG: 1624, ODC: 6704, OPC: 358, PER.END: 132\n",
      "2022-11-11 11:24:46,986 create scenicplus object INFO     Generating pseudo multi-ome data\n"
     ]
    }
   ],
   "source": [
    "from scenicplus.scenicplus_class import create_SCENICPLUS_object\n",
    "import numpy as np\n",
    "scplus_obj = create_SCENICPLUS_object(\n",
    "    GEX_anndata = adata.raw.to_adata(),\n",
    "    cisTopic_obj = cistopic_obj,\n",
    "    menr = menr,\n",
    "    multi_ome_mode = False,\n",
    "    key_to_group_by = 'celltype',\n",
    "    nr_cells_per_metacells = 5)"
   ]
  },
  {
   "cell_type": "code",
   "execution_count": 12,
   "id": "11984a10-4b12-46cc-9a38-a7f17e7b1592",
   "metadata": {},
   "outputs": [
    {
     "name": "stdout",
     "output_type": "stream",
     "text": [
      "host: 105\n",
      "Genes recovered: 4561 out of 5354\n",
      "host: 104\n",
      "Genes recovered: 4590 out of 5354\n",
      "host: 103\n",
      "Genes recovered: 5188 out of 5354\n",
      "host: 102\n"
     ]
    },
    {
     "name": "stderr",
     "output_type": "stream",
     "text": [
      "/data/leuven/338/vsc33838/miniconda3/envs/ibp-2022-env/lib/python3.9/site-packages/pybiomart/dataset.py:269: DtypeWarning: Columns (0) have mixed types. Specify dtype option on import or set low_memory=False.\n",
      "  result = pd.read_csv(StringIO(response.text), sep='\\t')\n"
     ]
    },
    {
     "name": "stdout",
     "output_type": "stream",
     "text": [
      "Genes recovered: 5196 out of 5354\n",
      "host: 101\n",
      "Genes recovered: 5208 out of 5354\n",
      "host: 100\n",
      "Host not reachable\n",
      "host: 99\n",
      "Genes recovered: 5230 out of 5354\n",
      "host: 98\n",
      "Genes recovered: 5265 out of 5354\n",
      "host: 97\n",
      "Genes recovered: 5274 out of 5354\n",
      "host: 96\n",
      "Genes recovered: 5305 out of 5354\n",
      "host: 95\n",
      "Genes recovered: 5336 out of 5354\n",
      "host: 94\n",
      "Genes recovered: 5352 out of 5354\n",
      "host: 93\n",
      "Genes recovered: 5295 out of 5354\n",
      "host: 92\n",
      "Genes recovered: 5285 out of 5354\n",
      "host: 91\n",
      "Genes recovered: 5242 out of 5354\n",
      "host: 90\n",
      "Genes recovered: 5221 out of 5354\n",
      "host: 89\n",
      "Host not reachable\n",
      "host: 88\n",
      "Host not reachable\n",
      "host: 87\n",
      "Host not reachable\n",
      "host: 86\n",
      "Host not reachable\n",
      "host: 80\n",
      "Genes recovered: 4502 out of 5354\n",
      "host: 77\n",
      "Genes recovered: 4426 out of 5354\n",
      "host: 75\n",
      "Host not reachable\n",
      "host: 54\n",
      "Host not reachable\n",
      "version: 94 has the largest overlap, use http://oct2018.archive.ensembl.org/ as biomart host\n"
     ]
    }
   ],
   "source": [
    "ensembl_version_dict = {'105': 'http://www.ensembl.org',\n",
    "                        '104': 'http://may2021.archive.ensembl.org/',\n",
    "                        '103': 'http://feb2021.archive.ensembl.org/',\n",
    "                        '102': 'http://nov2020.archive.ensembl.org/',\n",
    "                        '101': 'http://aug2020.archive.ensembl.org/',\n",
    "                        '100': 'http://apr2020.archive.ensembl.org/',\n",
    "                        '99': 'http://jan2020.archive.ensembl.org/',\n",
    "                        '98': 'http://sep2019.archive.ensembl.org/',\n",
    "                        '97': 'http://jul2019.archive.ensembl.org/',\n",
    "                        '96': 'http://apr2019.archive.ensembl.org/',\n",
    "                        '95': 'http://jan2019.archive.ensembl.org/',\n",
    "                        '94': 'http://oct2018.archive.ensembl.org/',\n",
    "                        '93': 'http://jul2018.archive.ensembl.org/',\n",
    "                        '92': 'http://apr2018.archive.ensembl.org/',\n",
    "                        '91': 'http://dec2017.archive.ensembl.org/',\n",
    "                        '90': 'http://aug2017.archive.ensembl.org/',\n",
    "                        '89': 'http://may2017.archive.ensembl.org/',\n",
    "                        '88': 'http://mar2017.archive.ensembl.org/',\n",
    "                        '87': 'http://dec2016.archive.ensembl.org/',\n",
    "                        '86': 'http://oct2016.archive.ensembl.org/',\n",
    "                        '80': 'http://may2015.archive.ensembl.org/',\n",
    "                        '77': 'http://oct2014.archive.ensembl.org/',\n",
    "                        '75': 'http://feb2014.archive.ensembl.org/',\n",
    "                        '54': 'http://may2009.archive.ensembl.org/'}\n",
    "\n",
    "import pybiomart as pbm\n",
    "def test_ensembl_host(scplus_obj, host, species):\n",
    "    dataset = pbm.Dataset(name=species+'_gene_ensembl',  host=host)\n",
    "    annot = dataset.query(attributes=['chromosome_name', 'transcription_start_site', 'strand', 'external_gene_name', 'transcript_biotype'])\n",
    "    annot.columns = ['Chromosome', 'Start', 'Strand', 'Gene', 'Transcript_type']\n",
    "    annot['Chromosome'] = annot['Chromosome'].astype('str')\n",
    "    filter = annot['Chromosome'].str.contains('CHR|GL|JH|MT')\n",
    "    annot = annot[~filter]\n",
    "    annot.columns=['Chromosome', 'Start', 'Strand', 'Gene', 'Transcript_type']\n",
    "    gene_names_release = set(annot['Gene'].tolist())\n",
    "    ov=len([x for x in scplus_obj.gene_names if x in gene_names_release])\n",
    "    print('Genes recovered: ' + str(ov) + ' out of ' + str(len(scplus_obj.gene_names)))\n",
    "    return ov\n",
    "\n",
    "n_overlap = {}\n",
    "for version in ensembl_version_dict.keys():\n",
    "    print(f'host: {version}')\n",
    "    try:\n",
    "        n_overlap[version] =  test_ensembl_host(scplus_obj, ensembl_version_dict[version], 'hsapiens')\n",
    "    except:\n",
    "        print('Host not reachable')\n",
    "v = sorted(n_overlap.items(), key=lambda item: item[1], reverse=True)[0][0]\n",
    "print(f\"version: {v} has the largest overlap, use {ensembl_version_dict[v]} as biomart host\")"
   ]
  },
  {
   "cell_type": "code",
   "execution_count": 4,
   "id": "7d9a02fe-ca79-4877-97ba-62ba3bcc5711",
   "metadata": {},
   "outputs": [],
   "source": [
    "biomart_host = \"http://oct2018.archive.ensembl.org/\""
   ]
  },
  {
   "cell_type": "code",
   "execution_count": null,
   "id": "90fd759d-b368-4ba0-88fa-53c5d3145c69",
   "metadata": {},
   "outputs": [],
   "source": [
    "scplus_obj = dill.load(open(os.path.join(scratch_dir, 'scenicplus/scplus_obj_f.pkl'), 'rb'))\n",
    "scplus_obj"
   ]
  },
  {
   "cell_type": "code",
   "execution_count": null,
   "id": "018ba0b8-1be3-4d8a-b2d6-812494eae0d4",
   "metadata": {},
   "outputs": [
    {
     "name": "stdout",
     "output_type": "stream",
     "text": [
      "2022-11-08 14:33:42,820 SCENIC+_wrapper INFO     /scratch/leuven/338/vsc33838/scenicplus folder already exists.\n",
      "2022-11-08 14:33:42,821 SCENIC+_wrapper INFO     Inferring region to gene relationships\n",
      "2022-11-08 14:33:43,373 R2G          INFO     Calculating region to gene importances, using GBM method\n",
      "2022-11-08 15:15:38,230 R2G          INFO     Took 2514.856024980545 seconds\n",
      "2022-11-08 15:15:38,234 R2G          INFO     Calculating region to gene correlation, using SR method\n",
      "2022-11-08 15:55:22,372 R2G          INFO     Took 2384.1362385749817 seconds\n",
      "2022-11-08 15:55:36,780 R2G          INFO     Done!\n",
      "2022-11-08 15:55:37,256 SCENIC+_wrapper INFO     Inferring TF to gene relationships\n",
      "2022-11-08 15:55:58,837 TF2G         INFO     Calculating TF to gene correlation, using GBM method\n",
      "2022-11-08 21:12:56,955 TF2G         INFO     Took 19018.11377763748 seconds\n",
      "2022-11-08 21:12:56,960 TF2G         INFO     Adding correlation coefficients to adjacencies.\n",
      "2022-11-08 21:14:48,123 TF2G         INFO     Warning: adding TFs as their own target to adjecencies matrix. Importance values will be max + 1e-05\n",
      "2022-11-08 21:15:26,056 TF2G         INFO     Adding importance x rho scores to adjacencies.\n",
      "2022-11-08 21:15:26,175 TF2G         INFO     Took 149.21429204940796 seconds\n",
      "2022-11-08 21:15:26,700 SCENIC+_wrapper INFO     Build eGRN\n",
      "2022-11-08 21:15:26,702 GSEA         INFO     Thresholding region to gene relationships\n"
     ]
    }
   ],
   "source": [
    "from scenicplus.wrappers.run_scenicplus import run_scenicplus\n",
    "try:\n",
    "    sys.stderr = open(os.path.join(scratch_dir, 'err.log'), \"w\")\n",
    "    run_scenicplus(\n",
    "        scplus_obj = scplus_obj,\n",
    "        variable = ['celltype'],\n",
    "        species = 'hsapiens',\n",
    "        assembly = 'hg38',\n",
    "        tf_file = os.path.join(local_state_dir, 'TF_names_v_1.01.txt'),\n",
    "        save_path = os.path.join(scratch_dir, 'scenicplus'),\n",
    "        biomart_host = biomart_host,\n",
    "        upstream = [1000, 150000],\n",
    "        downstream = [1000, 150000],\n",
    "        calculate_TF_eGRN_correlation = True,\n",
    "        calculate_DEGs_DARs = True,\n",
    "        export_to_loom_file = True,\n",
    "        export_to_UCSC_file = True,\n",
    "        path_bedToBigBed = os.path.join(local_state_dir, 'bin'),\n",
    "        n_cpu = 30,\n",
    "        _temp_dir = os.path.join(scratch_dir, 'ray_spill'))\n",
    "except Exception as e:\n",
    "    #in case of failure, still save the object\n",
    "    dill.dump(scplus_obj, open(os.path.join(scratch_dir, 'scenicplus/scplus_obj.pkl'), 'wb'), protocol=-1)\n",
    "    raise(e)"
   ]
  },
  {
   "cell_type": "code",
   "execution_count": 6,
   "id": "e09125bc-adbf-431c-9513-023a5fe53a46",
   "metadata": {},
   "outputs": [
    {
     "name": "stdout",
     "output_type": "stream",
     "text": [
      "2022-11-08 23:39:53,733 SCENIC+_wrapper INFO     Created folder : /scratch/leuven/338/vsc33838/scenicplus\n",
      "2022-11-08 23:39:53,734 SCENIC+_wrapper INFO     Merging cistromes\n",
      "2022-11-08 23:43:34,522 SCENIC+_wrapper INFO     Getting search space\n",
      "2022-11-08 23:43:37,172 R2G          INFO     Downloading gene annotation from biomart dataset: hsapiens_gene_ensembl\n",
      "2022-11-08 23:43:57,658 R2G          INFO     Downloading chromosome sizes from: http://hgdownload.cse.ucsc.edu/goldenPath/hg38/bigZips/hg38.chrom.sizes\n",
      "2022-11-08 23:43:59,183 R2G          INFO     Extending promoter annotation to 10 bp upstream and 10 downstream\n",
      "2022-11-08 23:44:01,341 R2G          INFO     Extending search space to:\n",
      "            \t\t\t\t\t\t150000 bp downstream of the end of the gene.\n",
      "            \t\t\t\t\t\t150000 bp upstream of the start of the gene.\n",
      "2022-11-08 23:44:18,365 R2G          INFO     Intersecting with regions.\n",
      "2022-11-08 23:44:19,787 R2G          INFO     Calculating distances from region to gene\n",
      "2022-11-08 23:47:47,577 R2G          INFO     Imploding multiple entries per region and gene\n",
      "2022-11-08 23:55:04,456 R2G          INFO     Done!\n",
      "2022-11-08 23:55:05,232 SCENIC+_wrapper INFO     Inferring region to gene relationships\n",
      "2022-11-08 23:55:05,730 R2G          INFO     Calculating region to gene importances, using GBM method\n",
      "2022-11-09 00:37:15,399 R2G          INFO     Took 2529.667982339859 seconds\n",
      "2022-11-09 00:37:15,403 R2G          INFO     Calculating region to gene correlation, using SR method\n",
      "2022-11-09 01:17:00,307 R2G          INFO     Took 2384.903430223465 seconds\n",
      "2022-11-09 01:17:15,069 R2G          INFO     Done!\n",
      "2022-11-09 01:17:15,663 SCENIC+_wrapper INFO     Inferring TF to gene relationships\n",
      "2022-11-09 01:17:38,073 TF2G         INFO     Calculating TF to gene correlation, using GBM method\n",
      "2022-11-09 06:12:58,408 TF2G         INFO     Took 17720.33241033554 seconds\n",
      "2022-11-09 06:12:58,412 TF2G         INFO     Adding correlation coefficients to adjacencies.\n",
      "2022-11-09 06:15:20,696 TF2G         INFO     Warning: adding TFs as their own target to adjecencies matrix. Importance values will be max + 1e-05\n",
      "2022-11-09 06:16:00,139 TF2G         INFO     Adding importance x rho scores to adjacencies.\n",
      "2022-11-09 06:16:00,271 TF2G         INFO     Took 181.85892820358276 seconds\n",
      "2022-11-09 06:16:00,884 SCENIC+_wrapper INFO     Build eGRN\n",
      "2022-11-09 06:16:00,885 GSEA         INFO     Thresholding region to gene relationships\n",
      "2022-11-09 07:00:54,315 GSEA         INFO     Subsetting TF2G adjacencies for TF with motif.\n",
      "2022-11-09 07:01:24,731 GSEA         INFO     Running GSEA...\n",
      "2022-11-09 08:17:53,288 GSEA         INFO     Subsetting on adjusted pvalue: 1, minimal NES: 0 and minimal leading edge genes 10\n",
      "2022-11-09 08:18:00,630 GSEA         INFO     Merging eRegulons\n",
      "2022-11-09 08:18:03,169 GSEA         INFO     Storing eRegulons in .uns[eRegulons].\n",
      "2022-11-09 08:18:57,730 SCENIC+_wrapper INFO     Formatting eGRNs\n",
      "2022-11-09 09:06:06,454 SCENIC+_wrapper INFO     Converting eGRNs to signatures\n",
      "2022-11-09 09:08:17,246 SCENIC+_wrapper INFO     Calculating eGRNs AUC\n",
      "2022-11-09 09:08:17,251 SCENIC+_wrapper INFO     Calculating region ranking\n",
      "2022-11-09 09:43:55,480 SCENIC+_wrapper INFO     Calculating eGRNs region based AUC\n"
     ]
    },
    {
     "ename": "MemoryError",
     "evalue": "",
     "output_type": "error",
     "traceback": [
      "\u001b[0;31m---------------------------------------------------------------------------\u001b[0m",
      "\u001b[0;31mMemoryError\u001b[0m                               Traceback (most recent call last)",
      "Cell \u001b[0;32mIn [6], line 4\u001b[0m\n\u001b[1;32m      3\u001b[0m     sys\u001b[38;5;241m.\u001b[39mstderr \u001b[38;5;241m=\u001b[39m \u001b[38;5;28mopen\u001b[39m(os\u001b[38;5;241m.\u001b[39mpath\u001b[38;5;241m.\u001b[39mjoin(scratch_dir, \u001b[38;5;124m'\u001b[39m\u001b[38;5;124merr2.log\u001b[39m\u001b[38;5;124m'\u001b[39m), \u001b[38;5;124m\"\u001b[39m\u001b[38;5;124mw\u001b[39m\u001b[38;5;124m\"\u001b[39m)\n\u001b[0;32m----> 4\u001b[0m     \u001b[43mrun_scenicplus\u001b[49m\u001b[43m(\u001b[49m\n\u001b[1;32m      5\u001b[0m \u001b[43m        \u001b[49m\u001b[43mscplus_obj\u001b[49m\u001b[43m \u001b[49m\u001b[38;5;241;43m=\u001b[39;49m\u001b[43m \u001b[49m\u001b[43mscplus_obj\u001b[49m\u001b[43m,\u001b[49m\n\u001b[1;32m      6\u001b[0m \u001b[43m        \u001b[49m\u001b[43mvariable\u001b[49m\u001b[43m \u001b[49m\u001b[38;5;241;43m=\u001b[39;49m\u001b[43m \u001b[49m\u001b[43m[\u001b[49m\u001b[38;5;124;43m'\u001b[39;49m\u001b[38;5;124;43mcelltype\u001b[39;49m\u001b[38;5;124;43m'\u001b[39;49m\u001b[43m]\u001b[49m\u001b[43m,\u001b[49m\n\u001b[1;32m      7\u001b[0m \u001b[43m        \u001b[49m\u001b[43mspecies\u001b[49m\u001b[43m \u001b[49m\u001b[38;5;241;43m=\u001b[39;49m\u001b[43m \u001b[49m\u001b[38;5;124;43m'\u001b[39;49m\u001b[38;5;124;43mhsapiens\u001b[39;49m\u001b[38;5;124;43m'\u001b[39;49m\u001b[43m,\u001b[49m\n\u001b[1;32m      8\u001b[0m \u001b[43m        \u001b[49m\u001b[43massembly\u001b[49m\u001b[43m \u001b[49m\u001b[38;5;241;43m=\u001b[39;49m\u001b[43m \u001b[49m\u001b[38;5;124;43m'\u001b[39;49m\u001b[38;5;124;43mhg38\u001b[39;49m\u001b[38;5;124;43m'\u001b[39;49m\u001b[43m,\u001b[49m\n\u001b[1;32m      9\u001b[0m \u001b[43m        \u001b[49m\u001b[43mtf_file\u001b[49m\u001b[43m \u001b[49m\u001b[38;5;241;43m=\u001b[39;49m\u001b[43m \u001b[49m\u001b[43mos\u001b[49m\u001b[38;5;241;43m.\u001b[39;49m\u001b[43mpath\u001b[49m\u001b[38;5;241;43m.\u001b[39;49m\u001b[43mjoin\u001b[49m\u001b[43m(\u001b[49m\u001b[43mlocal_state_dir\u001b[49m\u001b[43m,\u001b[49m\u001b[43m \u001b[49m\u001b[38;5;124;43m'\u001b[39;49m\u001b[38;5;124;43mTF_names_v_1.01.txt\u001b[39;49m\u001b[38;5;124;43m'\u001b[39;49m\u001b[43m)\u001b[49m\u001b[43m,\u001b[49m\n\u001b[1;32m     10\u001b[0m \u001b[43m        \u001b[49m\u001b[43msave_path\u001b[49m\u001b[43m \u001b[49m\u001b[38;5;241;43m=\u001b[39;49m\u001b[43m \u001b[49m\u001b[43mos\u001b[49m\u001b[38;5;241;43m.\u001b[39;49m\u001b[43mpath\u001b[49m\u001b[38;5;241;43m.\u001b[39;49m\u001b[43mjoin\u001b[49m\u001b[43m(\u001b[49m\u001b[43mscratch_dir\u001b[49m\u001b[43m,\u001b[49m\u001b[43m \u001b[49m\u001b[38;5;124;43m'\u001b[39;49m\u001b[38;5;124;43mscenicplus\u001b[39;49m\u001b[38;5;124;43m'\u001b[39;49m\u001b[43m)\u001b[49m\u001b[43m,\u001b[49m\n\u001b[1;32m     11\u001b[0m \u001b[43m        \u001b[49m\u001b[43mbiomart_host\u001b[49m\u001b[43m \u001b[49m\u001b[38;5;241;43m=\u001b[39;49m\u001b[43m \u001b[49m\u001b[43mbiomart_host\u001b[49m\u001b[43m,\u001b[49m\n\u001b[1;32m     12\u001b[0m \u001b[43m        \u001b[49m\u001b[43mupstream\u001b[49m\u001b[43m \u001b[49m\u001b[38;5;241;43m=\u001b[39;49m\u001b[43m \u001b[49m\u001b[43m[\u001b[49m\u001b[38;5;241;43m1000\u001b[39;49m\u001b[43m,\u001b[49m\u001b[43m \u001b[49m\u001b[38;5;241;43m150000\u001b[39;49m\u001b[43m]\u001b[49m\u001b[43m,\u001b[49m\n\u001b[1;32m     13\u001b[0m \u001b[43m        \u001b[49m\u001b[43mdownstream\u001b[49m\u001b[43m \u001b[49m\u001b[38;5;241;43m=\u001b[39;49m\u001b[43m \u001b[49m\u001b[43m[\u001b[49m\u001b[38;5;241;43m1000\u001b[39;49m\u001b[43m,\u001b[49m\u001b[43m \u001b[49m\u001b[38;5;241;43m150000\u001b[39;49m\u001b[43m]\u001b[49m\u001b[43m,\u001b[49m\n\u001b[1;32m     14\u001b[0m \u001b[43m        \u001b[49m\u001b[43mcalculate_TF_eGRN_correlation\u001b[49m\u001b[43m \u001b[49m\u001b[38;5;241;43m=\u001b[39;49m\u001b[43m \u001b[49m\u001b[38;5;28;43;01mTrue\u001b[39;49;00m\u001b[43m,\u001b[49m\n\u001b[1;32m     15\u001b[0m \u001b[43m        \u001b[49m\u001b[43mcalculate_DEGs_DARs\u001b[49m\u001b[43m \u001b[49m\u001b[38;5;241;43m=\u001b[39;49m\u001b[43m \u001b[49m\u001b[38;5;28;43;01mTrue\u001b[39;49;00m\u001b[43m,\u001b[49m\n\u001b[1;32m     16\u001b[0m \u001b[43m        \u001b[49m\u001b[43mexport_to_loom_file\u001b[49m\u001b[43m \u001b[49m\u001b[38;5;241;43m=\u001b[39;49m\u001b[43m \u001b[49m\u001b[38;5;28;43;01mTrue\u001b[39;49;00m\u001b[43m,\u001b[49m\n\u001b[1;32m     17\u001b[0m \u001b[43m        \u001b[49m\u001b[43mexport_to_UCSC_file\u001b[49m\u001b[43m \u001b[49m\u001b[38;5;241;43m=\u001b[39;49m\u001b[43m \u001b[49m\u001b[38;5;28;43;01mTrue\u001b[39;49;00m\u001b[43m,\u001b[49m\n\u001b[1;32m     18\u001b[0m \u001b[43m        \u001b[49m\u001b[43mpath_bedToBigBed\u001b[49m\u001b[43m \u001b[49m\u001b[38;5;241;43m=\u001b[39;49m\u001b[43m \u001b[49m\u001b[43mos\u001b[49m\u001b[38;5;241;43m.\u001b[39;49m\u001b[43mpath\u001b[49m\u001b[38;5;241;43m.\u001b[39;49m\u001b[43mjoin\u001b[49m\u001b[43m(\u001b[49m\u001b[43mlocal_state_dir\u001b[49m\u001b[43m,\u001b[49m\u001b[43m \u001b[49m\u001b[38;5;124;43m'\u001b[39;49m\u001b[38;5;124;43mbin\u001b[39;49m\u001b[38;5;124;43m'\u001b[39;49m\u001b[43m)\u001b[49m\u001b[43m,\u001b[49m\n\u001b[1;32m     19\u001b[0m \u001b[43m        \u001b[49m\u001b[43mn_cpu\u001b[49m\u001b[43m \u001b[49m\u001b[38;5;241;43m=\u001b[39;49m\u001b[43m \u001b[49m\u001b[38;5;241;43m32\u001b[39;49m\u001b[43m,\u001b[49m\n\u001b[1;32m     20\u001b[0m \u001b[43m        \u001b[49m\u001b[43m_temp_dir\u001b[49m\u001b[43m \u001b[49m\u001b[38;5;241;43m=\u001b[39;49m\u001b[43m \u001b[49m\u001b[43mos\u001b[49m\u001b[38;5;241;43m.\u001b[39;49m\u001b[43mpath\u001b[49m\u001b[38;5;241;43m.\u001b[39;49m\u001b[43mjoin\u001b[49m\u001b[43m(\u001b[49m\u001b[43mscratch_dir\u001b[49m\u001b[43m,\u001b[49m\u001b[43m \u001b[49m\u001b[38;5;124;43m'\u001b[39;49m\u001b[38;5;124;43mray_spill\u001b[39;49m\u001b[38;5;124;43m'\u001b[39;49m\u001b[43m)\u001b[49m\u001b[43m)\u001b[49m\n\u001b[1;32m     21\u001b[0m \u001b[38;5;28;01mexcept\u001b[39;00m \u001b[38;5;167;01mException\u001b[39;00m \u001b[38;5;28;01mas\u001b[39;00m e:\n\u001b[1;32m     22\u001b[0m     \u001b[38;5;66;03m#in case of failure, still save the object\u001b[39;00m\n",
      "File \u001b[0;32m/vsc-hard-mounts/leuven-data/338/vsc33838/scenicplus/src/scenicplus/wrappers/run_scenicplus.py:218\u001b[0m, in \u001b[0;36mrun_scenicplus\u001b[0;34m(scplus_obj, variable, species, assembly, tf_file, save_path, biomart_host, upstream, downstream, region_ranking, gene_ranking, simplified_eGRN, calculate_TF_eGRN_correlation, calculate_DEGs_DARs, export_to_loom_file, export_to_UCSC_file, tree_structure, path_bedToBigBed, n_cpu, _temp_dir, **kwargs)\u001b[0m\n\u001b[1;32m    217\u001b[0m log\u001b[38;5;241m.\u001b[39minfo(\u001b[38;5;124m'\u001b[39m\u001b[38;5;124mCalculating eGRNs region based AUC\u001b[39m\u001b[38;5;124m'\u001b[39m)\n\u001b[0;32m--> 218\u001b[0m \u001b[43mscore_eRegulons\u001b[49m\u001b[43m(\u001b[49m\u001b[43mscplus_obj\u001b[49m\u001b[43m,\u001b[49m\n\u001b[1;32m    219\u001b[0m \u001b[43m        \u001b[49m\u001b[43mranking\u001b[49m\u001b[43m \u001b[49m\u001b[38;5;241;43m=\u001b[39;49m\u001b[43m \u001b[49m\u001b[43mregion_ranking\u001b[49m\u001b[43m,\u001b[49m\n\u001b[1;32m    220\u001b[0m \u001b[43m        \u001b[49m\u001b[43meRegulon_signatures_key\u001b[49m\u001b[43m \u001b[49m\u001b[38;5;241;43m=\u001b[39;49m\u001b[43m \u001b[49m\u001b[38;5;124;43m'\u001b[39;49m\u001b[38;5;124;43meRegulon_signatures\u001b[39;49m\u001b[38;5;124;43m'\u001b[39;49m\u001b[43m,\u001b[49m\n\u001b[1;32m    221\u001b[0m \u001b[43m        \u001b[49m\u001b[43mkey_added\u001b[49m\u001b[43m \u001b[49m\u001b[38;5;241;43m=\u001b[39;49m\u001b[43m \u001b[49m\u001b[38;5;124;43m'\u001b[39;49m\u001b[38;5;124;43meRegulon_AUC\u001b[39;49m\u001b[38;5;124;43m'\u001b[39;49m\u001b[43m,\u001b[49m\u001b[43m \u001b[49m\n\u001b[1;32m    222\u001b[0m \u001b[43m        \u001b[49m\u001b[43menrichment_type\u001b[49m\u001b[38;5;241;43m=\u001b[39;49m\u001b[43m \u001b[49m\u001b[38;5;124;43m'\u001b[39;49m\u001b[38;5;124;43mregion\u001b[39;49m\u001b[38;5;124;43m'\u001b[39;49m\u001b[43m,\u001b[49m\n\u001b[1;32m    223\u001b[0m \u001b[43m        \u001b[49m\u001b[43mauc_threshold\u001b[49m\u001b[43m \u001b[49m\u001b[38;5;241;43m=\u001b[39;49m\u001b[43m \u001b[49m\u001b[38;5;241;43m0.05\u001b[39;49m\u001b[43m,\u001b[49m\n\u001b[1;32m    224\u001b[0m \u001b[43m        \u001b[49m\u001b[43mnormalize\u001b[49m\u001b[43m \u001b[49m\u001b[38;5;241;43m=\u001b[39;49m\u001b[43m \u001b[49m\u001b[38;5;28;43;01mFalse\u001b[39;49;00m\u001b[43m,\u001b[49m\n\u001b[1;32m    225\u001b[0m \u001b[43m        \u001b[49m\u001b[43mn_cpu\u001b[49m\u001b[43m \u001b[49m\u001b[38;5;241;43m=\u001b[39;49m\u001b[43m \u001b[49m\u001b[43mn_cpu\u001b[49m\u001b[43m)\u001b[49m\n\u001b[1;32m    226\u001b[0m \u001b[38;5;28;01mif\u001b[39;00m gene_ranking \u001b[38;5;129;01mis\u001b[39;00m \u001b[38;5;28;01mNone\u001b[39;00m:\n",
      "File \u001b[0;32m/vsc-hard-mounts/leuven-data/338/vsc33838/scenicplus/src/scenicplus/eregulon_enrichment.py:160\u001b[0m, in \u001b[0;36mscore_eRegulons\u001b[0;34m(scplus_obj, ranking, inplace, eRegulon_signatures_key, key_added, enrichment_type, auc_threshold, normalize, n_cpu)\u001b[0m\n\u001b[1;32m    159\u001b[0m \u001b[38;5;28;01mif\u001b[39;00m inplace:\n\u001b[0;32m--> 160\u001b[0m     scplus_obj\u001b[38;5;241m.\u001b[39muns[key_added][key] \u001b[38;5;241m=\u001b[39m \u001b[43msignature_enrichment\u001b[49m\u001b[43m(\u001b[49m\u001b[43mranking\u001b[49m\u001b[43m,\u001b[49m\n\u001b[1;32m    161\u001b[0m \u001b[43m                                                        \u001b[49m\u001b[43mscplus_obj\u001b[49m\u001b[38;5;241;43m.\u001b[39;49m\u001b[43muns\u001b[49m\u001b[43m[\u001b[49m\u001b[43meRegulon_signatures_key\u001b[49m\u001b[43m]\u001b[49m\u001b[43m[\u001b[49m\u001b[43mkey\u001b[49m\u001b[43m]\u001b[49m\u001b[43m,\u001b[49m\n\u001b[1;32m    162\u001b[0m \u001b[43m                                                        \u001b[49m\u001b[43menrichment_type\u001b[49m\u001b[38;5;241;43m=\u001b[39;49m\u001b[38;5;124;43m'\u001b[39;49m\u001b[38;5;124;43mgene\u001b[39;49m\u001b[38;5;124;43m'\u001b[39;49m\u001b[43m,\u001b[49m\n\u001b[1;32m    163\u001b[0m \u001b[43m                                                        \u001b[49m\u001b[43mauc_threshold\u001b[49m\u001b[38;5;241;43m=\u001b[39;49m\u001b[43mauc_threshold\u001b[49m\u001b[43m,\u001b[49m\n\u001b[1;32m    164\u001b[0m \u001b[43m                                                        \u001b[49m\u001b[43mnormalize\u001b[49m\u001b[38;5;241;43m=\u001b[39;49m\u001b[43mnormalize\u001b[49m\u001b[43m,\u001b[49m\n\u001b[1;32m    165\u001b[0m \u001b[43m                                                        \u001b[49m\u001b[43mn_cpu\u001b[49m\u001b[38;5;241;43m=\u001b[39;49m\u001b[43mn_cpu\u001b[49m\u001b[43m)\u001b[49m\n\u001b[1;32m    166\u001b[0m \u001b[38;5;28;01melse\u001b[39;00m:\n",
      "File \u001b[0;32m/data/leuven/338/vsc33838/miniconda3/envs/ibp-2022-env/lib/python3.9/site-packages/pycisTopic/signature_enrichment.py:67\u001b[0m, in \u001b[0;36msignature_enrichment\u001b[0;34m(rankings, signatures, enrichment_type, auc_threshold, normalize, n_cpu)\u001b[0m\n\u001b[1;32m     66\u001b[0m \u001b[38;5;66;03m# Run aucell\u001b[39;00m\n\u001b[0;32m---> 67\u001b[0m auc_sig \u001b[38;5;241m=\u001b[39m \u001b[43maucell4r\u001b[49m\u001b[43m(\u001b[49m\n\u001b[1;32m     68\u001b[0m \u001b[43m    \u001b[49m\u001b[43mdf_rnk\u001b[49m\u001b[38;5;241;43m=\u001b[39;49m\u001b[43mrankings\u001b[49m\u001b[43m,\u001b[49m\n\u001b[1;32m     69\u001b[0m \u001b[43m    \u001b[49m\u001b[43msignatures\u001b[49m\u001b[38;5;241;43m=\u001b[39;49m\u001b[43msignatures\u001b[49m\u001b[43m,\u001b[49m\n\u001b[1;32m     70\u001b[0m \u001b[43m    \u001b[49m\u001b[43mauc_threshold\u001b[49m\u001b[38;5;241;43m=\u001b[39;49m\u001b[43mauc_threshold\u001b[49m\u001b[43m,\u001b[49m\n\u001b[1;32m     71\u001b[0m \u001b[43m    \u001b[49m\u001b[43mnoweights\u001b[49m\u001b[38;5;241;43m=\u001b[39;49m\u001b[38;5;28;43;01mFalse\u001b[39;49;00m\u001b[43m,\u001b[49m\n\u001b[1;32m     72\u001b[0m \u001b[43m    \u001b[49m\u001b[43mnormalize\u001b[49m\u001b[38;5;241;43m=\u001b[39;49m\u001b[43mnormalize\u001b[49m\u001b[43m,\u001b[49m\n\u001b[1;32m     73\u001b[0m \u001b[43m    \u001b[49m\u001b[43mnum_workers\u001b[49m\u001b[38;5;241;43m=\u001b[39;49m\u001b[43mn_cpu\u001b[49m\u001b[43m,\u001b[49m\n\u001b[1;32m     74\u001b[0m \u001b[43m\u001b[49m\u001b[43m)\u001b[49m\n\u001b[1;32m     75\u001b[0m auc_sig\u001b[38;5;241m.\u001b[39mcolumns\u001b[38;5;241m.\u001b[39mnames \u001b[38;5;241m=\u001b[39m [\u001b[38;5;28;01mNone\u001b[39;00m]\n",
      "File \u001b[0;32m/data/leuven/338/vsc33838/miniconda3/envs/ibp-2022-env/lib/python3.9/site-packages/pyscenic/aucell.py:129\u001b[0m, in \u001b[0;36maucell4r\u001b[0;34m(df_rnk, signatures, auc_threshold, noweights, normalize, num_workers)\u001b[0m\n\u001b[1;32m    128\u001b[0m \u001b[38;5;66;03m# Copy the contents of df_rank into this shared memory block using row-major ordering.\u001b[39;00m\n\u001b[0;32m--> 129\u001b[0m array[:] \u001b[38;5;241m=\u001b[39m \u001b[43mdf_rnk\u001b[49m\u001b[38;5;241;43m.\u001b[39;49m\u001b[43mvalues\u001b[49m\u001b[38;5;241;43m.\u001b[39;49m\u001b[43mflatten\u001b[49m\u001b[43m(\u001b[49m\u001b[43morder\u001b[49m\u001b[38;5;241;43m=\u001b[39;49m\u001b[38;5;124;43m'\u001b[39;49m\u001b[38;5;124;43mC\u001b[39;49m\u001b[38;5;124;43m'\u001b[39;49m\u001b[43m)\u001b[49m\n\u001b[1;32m    131\u001b[0m \u001b[38;5;66;03m# The resulting AUCs are returned via a synchronize array.\u001b[39;00m\n",
      "\u001b[0;31mMemoryError\u001b[0m: Unable to allocate 36.1 GiB for an array with shape (9681912292,) and data type int32",
      "\nDuring handling of the above exception, another exception occurred:\n",
      "\u001b[0;31mMemoryError\u001b[0m                               Traceback (most recent call last)",
      "Cell \u001b[0;32mIn [6], line 23\u001b[0m\n\u001b[1;32m      4\u001b[0m     run_scenicplus(\n\u001b[1;32m      5\u001b[0m         scplus_obj \u001b[38;5;241m=\u001b[39m scplus_obj,\n\u001b[1;32m      6\u001b[0m         variable \u001b[38;5;241m=\u001b[39m [\u001b[38;5;124m'\u001b[39m\u001b[38;5;124mcelltype\u001b[39m\u001b[38;5;124m'\u001b[39m],\n\u001b[0;32m   (...)\u001b[0m\n\u001b[1;32m     19\u001b[0m         n_cpu \u001b[38;5;241m=\u001b[39m \u001b[38;5;241m32\u001b[39m,\n\u001b[1;32m     20\u001b[0m         _temp_dir \u001b[38;5;241m=\u001b[39m os\u001b[38;5;241m.\u001b[39mpath\u001b[38;5;241m.\u001b[39mjoin(scratch_dir, \u001b[38;5;124m'\u001b[39m\u001b[38;5;124mray_spill\u001b[39m\u001b[38;5;124m'\u001b[39m))\n\u001b[1;32m     21\u001b[0m \u001b[38;5;28;01mexcept\u001b[39;00m \u001b[38;5;167;01mException\u001b[39;00m \u001b[38;5;28;01mas\u001b[39;00m e:\n\u001b[1;32m     22\u001b[0m     \u001b[38;5;66;03m#in case of failure, still save the object\u001b[39;00m\n\u001b[0;32m---> 23\u001b[0m     \u001b[43mdill\u001b[49m\u001b[38;5;241;43m.\u001b[39;49m\u001b[43mdump\u001b[49m\u001b[43m(\u001b[49m\u001b[43mscplus_obj\u001b[49m\u001b[43m,\u001b[49m\u001b[43m \u001b[49m\u001b[38;5;28;43mopen\u001b[39;49m\u001b[43m(\u001b[49m\u001b[43mos\u001b[49m\u001b[38;5;241;43m.\u001b[39;49m\u001b[43mpath\u001b[49m\u001b[38;5;241;43m.\u001b[39;49m\u001b[43mjoin\u001b[49m\u001b[43m(\u001b[49m\u001b[43mscratch_dir\u001b[49m\u001b[43m,\u001b[49m\u001b[43m \u001b[49m\u001b[38;5;124;43m'\u001b[39;49m\u001b[38;5;124;43mscenicplus/scplus_obj.pkl\u001b[39;49m\u001b[38;5;124;43m'\u001b[39;49m\u001b[43m)\u001b[49m\u001b[43m,\u001b[49m\u001b[43m \u001b[49m\u001b[38;5;124;43m'\u001b[39;49m\u001b[38;5;124;43mwb\u001b[39;49m\u001b[38;5;124;43m'\u001b[39;49m\u001b[43m)\u001b[49m\u001b[43m,\u001b[49m\u001b[43m \u001b[49m\u001b[43mprotocol\u001b[49m\u001b[38;5;241;43m=\u001b[39;49m\u001b[38;5;241;43m-\u001b[39;49m\u001b[38;5;241;43m1\u001b[39;49m\u001b[43m)\u001b[49m\n\u001b[1;32m     24\u001b[0m     \u001b[38;5;28;01mraise\u001b[39;00m(e)\n",
      "File \u001b[0;32m/data/leuven/338/vsc33838/miniconda3/envs/ibp-2022-env/lib/python3.9/site-packages/dill/_dill.py:235\u001b[0m, in \u001b[0;36mdump\u001b[0;34m(obj, file, protocol, byref, fmode, recurse, **kwds)\u001b[0m\n\u001b[1;32m    233\u001b[0m _kwds \u001b[38;5;241m=\u001b[39m kwds\u001b[38;5;241m.\u001b[39mcopy()\n\u001b[1;32m    234\u001b[0m _kwds\u001b[38;5;241m.\u001b[39mupdate(\u001b[38;5;28mdict\u001b[39m(byref\u001b[38;5;241m=\u001b[39mbyref, fmode\u001b[38;5;241m=\u001b[39mfmode, recurse\u001b[38;5;241m=\u001b[39mrecurse))\n\u001b[0;32m--> 235\u001b[0m \u001b[43mPickler\u001b[49m\u001b[43m(\u001b[49m\u001b[43mfile\u001b[49m\u001b[43m,\u001b[49m\u001b[43m \u001b[49m\u001b[43mprotocol\u001b[49m\u001b[43m,\u001b[49m\u001b[43m \u001b[49m\u001b[38;5;241;43m*\u001b[39;49m\u001b[38;5;241;43m*\u001b[39;49m\u001b[43m_kwds\u001b[49m\u001b[43m)\u001b[49m\u001b[38;5;241;43m.\u001b[39;49m\u001b[43mdump\u001b[49m\u001b[43m(\u001b[49m\u001b[43mobj\u001b[49m\u001b[43m)\u001b[49m\n\u001b[1;32m    236\u001b[0m \u001b[38;5;28;01mreturn\u001b[39;00m\n",
      "File \u001b[0;32m/data/leuven/338/vsc33838/miniconda3/envs/ibp-2022-env/lib/python3.9/site-packages/dill/_dill.py:394\u001b[0m, in \u001b[0;36mPickler.dump\u001b[0;34m(self, obj)\u001b[0m\n\u001b[1;32m    392\u001b[0m \u001b[38;5;28;01mdef\u001b[39;00m \u001b[38;5;21mdump\u001b[39m(\u001b[38;5;28mself\u001b[39m, obj): \u001b[38;5;66;03m#NOTE: if settings change, need to update attributes\u001b[39;00m\n\u001b[1;32m    393\u001b[0m     logger\u001b[38;5;241m.\u001b[39mtrace_setup(\u001b[38;5;28mself\u001b[39m)\n\u001b[0;32m--> 394\u001b[0m     \u001b[43mStockPickler\u001b[49m\u001b[38;5;241;43m.\u001b[39;49m\u001b[43mdump\u001b[49m\u001b[43m(\u001b[49m\u001b[38;5;28;43mself\u001b[39;49m\u001b[43m,\u001b[49m\u001b[43m \u001b[49m\u001b[43mobj\u001b[49m\u001b[43m)\u001b[49m\n",
      "File \u001b[0;32m/data/leuven/338/vsc33838/miniconda3/envs/ibp-2022-env/lib/python3.9/pickle.py:487\u001b[0m, in \u001b[0;36m_Pickler.dump\u001b[0;34m(self, obj)\u001b[0m\n\u001b[1;32m    485\u001b[0m \u001b[38;5;28;01mif\u001b[39;00m \u001b[38;5;28mself\u001b[39m\u001b[38;5;241m.\u001b[39mproto \u001b[38;5;241m>\u001b[39m\u001b[38;5;241m=\u001b[39m \u001b[38;5;241m4\u001b[39m:\n\u001b[1;32m    486\u001b[0m     \u001b[38;5;28mself\u001b[39m\u001b[38;5;241m.\u001b[39mframer\u001b[38;5;241m.\u001b[39mstart_framing()\n\u001b[0;32m--> 487\u001b[0m \u001b[38;5;28;43mself\u001b[39;49m\u001b[38;5;241;43m.\u001b[39;49m\u001b[43msave\u001b[49m\u001b[43m(\u001b[49m\u001b[43mobj\u001b[49m\u001b[43m)\u001b[49m\n\u001b[1;32m    488\u001b[0m \u001b[38;5;28mself\u001b[39m\u001b[38;5;241m.\u001b[39mwrite(STOP)\n\u001b[1;32m    489\u001b[0m \u001b[38;5;28mself\u001b[39m\u001b[38;5;241m.\u001b[39mframer\u001b[38;5;241m.\u001b[39mend_framing()\n",
      "File \u001b[0;32m/data/leuven/338/vsc33838/miniconda3/envs/ibp-2022-env/lib/python3.9/site-packages/dill/_dill.py:388\u001b[0m, in \u001b[0;36mPickler.save\u001b[0;34m(self, obj, save_persistent_id)\u001b[0m\n\u001b[1;32m    386\u001b[0m     msg \u001b[38;5;241m=\u001b[39m \u001b[38;5;124m\"\u001b[39m\u001b[38;5;124mCan\u001b[39m\u001b[38;5;124m'\u001b[39m\u001b[38;5;124mt pickle \u001b[39m\u001b[38;5;132;01m%s\u001b[39;00m\u001b[38;5;124m: attribute lookup builtins.generator failed\u001b[39m\u001b[38;5;124m\"\u001b[39m \u001b[38;5;241m%\u001b[39m GeneratorType\n\u001b[1;32m    387\u001b[0m     \u001b[38;5;28;01mraise\u001b[39;00m PicklingError(msg)\n\u001b[0;32m--> 388\u001b[0m \u001b[43mStockPickler\u001b[49m\u001b[38;5;241;43m.\u001b[39;49m\u001b[43msave\u001b[49m\u001b[43m(\u001b[49m\u001b[38;5;28;43mself\u001b[39;49m\u001b[43m,\u001b[49m\u001b[43m \u001b[49m\u001b[43mobj\u001b[49m\u001b[43m,\u001b[49m\u001b[43m \u001b[49m\u001b[43msave_persistent_id\u001b[49m\u001b[43m)\u001b[49m\n",
      "File \u001b[0;32m/data/leuven/338/vsc33838/miniconda3/envs/ibp-2022-env/lib/python3.9/pickle.py:603\u001b[0m, in \u001b[0;36m_Pickler.save\u001b[0;34m(self, obj, save_persistent_id)\u001b[0m\n\u001b[1;32m    599\u001b[0m     \u001b[38;5;28;01mraise\u001b[39;00m PicklingError(\u001b[38;5;124m\"\u001b[39m\u001b[38;5;124mTuple returned by \u001b[39m\u001b[38;5;132;01m%s\u001b[39;00m\u001b[38;5;124m must have \u001b[39m\u001b[38;5;124m\"\u001b[39m\n\u001b[1;32m    600\u001b[0m                         \u001b[38;5;124m\"\u001b[39m\u001b[38;5;124mtwo to six elements\u001b[39m\u001b[38;5;124m\"\u001b[39m \u001b[38;5;241m%\u001b[39m reduce)\n\u001b[1;32m    602\u001b[0m \u001b[38;5;66;03m# Save the reduce() output and finally memoize the object\u001b[39;00m\n\u001b[0;32m--> 603\u001b[0m \u001b[38;5;28;43mself\u001b[39;49m\u001b[38;5;241;43m.\u001b[39;49m\u001b[43msave_reduce\u001b[49m\u001b[43m(\u001b[49m\u001b[43mobj\u001b[49m\u001b[38;5;241;43m=\u001b[39;49m\u001b[43mobj\u001b[49m\u001b[43m,\u001b[49m\u001b[43m \u001b[49m\u001b[38;5;241;43m*\u001b[39;49m\u001b[43mrv\u001b[49m\u001b[43m)\u001b[49m\n",
      "File \u001b[0;32m/data/leuven/338/vsc33838/miniconda3/envs/ibp-2022-env/lib/python3.9/pickle.py:717\u001b[0m, in \u001b[0;36m_Pickler.save_reduce\u001b[0;34m(self, func, args, state, listitems, dictitems, state_setter, obj)\u001b[0m\n\u001b[1;32m    715\u001b[0m \u001b[38;5;28;01mif\u001b[39;00m state \u001b[38;5;129;01mis\u001b[39;00m \u001b[38;5;129;01mnot\u001b[39;00m \u001b[38;5;28;01mNone\u001b[39;00m:\n\u001b[1;32m    716\u001b[0m     \u001b[38;5;28;01mif\u001b[39;00m state_setter \u001b[38;5;129;01mis\u001b[39;00m \u001b[38;5;28;01mNone\u001b[39;00m:\n\u001b[0;32m--> 717\u001b[0m         \u001b[43msave\u001b[49m\u001b[43m(\u001b[49m\u001b[43mstate\u001b[49m\u001b[43m)\u001b[49m\n\u001b[1;32m    718\u001b[0m         write(BUILD)\n\u001b[1;32m    719\u001b[0m     \u001b[38;5;28;01melse\u001b[39;00m:\n\u001b[1;32m    720\u001b[0m         \u001b[38;5;66;03m# If a state_setter is specified, call it instead of load_build\u001b[39;00m\n\u001b[1;32m    721\u001b[0m         \u001b[38;5;66;03m# to update obj's with its previous state.\u001b[39;00m\n\u001b[1;32m    722\u001b[0m         \u001b[38;5;66;03m# First, push state_setter and its tuple of expected arguments\u001b[39;00m\n\u001b[1;32m    723\u001b[0m         \u001b[38;5;66;03m# (obj, state) onto the stack.\u001b[39;00m\n",
      "File \u001b[0;32m/data/leuven/338/vsc33838/miniconda3/envs/ibp-2022-env/lib/python3.9/site-packages/dill/_dill.py:388\u001b[0m, in \u001b[0;36mPickler.save\u001b[0;34m(self, obj, save_persistent_id)\u001b[0m\n\u001b[1;32m    386\u001b[0m     msg \u001b[38;5;241m=\u001b[39m \u001b[38;5;124m\"\u001b[39m\u001b[38;5;124mCan\u001b[39m\u001b[38;5;124m'\u001b[39m\u001b[38;5;124mt pickle \u001b[39m\u001b[38;5;132;01m%s\u001b[39;00m\u001b[38;5;124m: attribute lookup builtins.generator failed\u001b[39m\u001b[38;5;124m\"\u001b[39m \u001b[38;5;241m%\u001b[39m GeneratorType\n\u001b[1;32m    387\u001b[0m     \u001b[38;5;28;01mraise\u001b[39;00m PicklingError(msg)\n\u001b[0;32m--> 388\u001b[0m \u001b[43mStockPickler\u001b[49m\u001b[38;5;241;43m.\u001b[39;49m\u001b[43msave\u001b[49m\u001b[43m(\u001b[49m\u001b[38;5;28;43mself\u001b[39;49m\u001b[43m,\u001b[49m\u001b[43m \u001b[49m\u001b[43mobj\u001b[49m\u001b[43m,\u001b[49m\u001b[43m \u001b[49m\u001b[43msave_persistent_id\u001b[49m\u001b[43m)\u001b[49m\n",
      "File \u001b[0;32m/data/leuven/338/vsc33838/miniconda3/envs/ibp-2022-env/lib/python3.9/pickle.py:560\u001b[0m, in \u001b[0;36m_Pickler.save\u001b[0;34m(self, obj, save_persistent_id)\u001b[0m\n\u001b[1;32m    558\u001b[0m f \u001b[38;5;241m=\u001b[39m \u001b[38;5;28mself\u001b[39m\u001b[38;5;241m.\u001b[39mdispatch\u001b[38;5;241m.\u001b[39mget(t)\n\u001b[1;32m    559\u001b[0m \u001b[38;5;28;01mif\u001b[39;00m f \u001b[38;5;129;01mis\u001b[39;00m \u001b[38;5;129;01mnot\u001b[39;00m \u001b[38;5;28;01mNone\u001b[39;00m:\n\u001b[0;32m--> 560\u001b[0m     \u001b[43mf\u001b[49m\u001b[43m(\u001b[49m\u001b[38;5;28;43mself\u001b[39;49m\u001b[43m,\u001b[49m\u001b[43m \u001b[49m\u001b[43mobj\u001b[49m\u001b[43m)\u001b[49m  \u001b[38;5;66;03m# Call unbound method with explicit self\u001b[39;00m\n\u001b[1;32m    561\u001b[0m     \u001b[38;5;28;01mreturn\u001b[39;00m\n\u001b[1;32m    563\u001b[0m \u001b[38;5;66;03m# Check private dispatch table if any, or else\u001b[39;00m\n\u001b[1;32m    564\u001b[0m \u001b[38;5;66;03m# copyreg.dispatch_table\u001b[39;00m\n",
      "File \u001b[0;32m/data/leuven/338/vsc33838/miniconda3/envs/ibp-2022-env/lib/python3.9/site-packages/dill/_dill.py:1186\u001b[0m, in \u001b[0;36msave_module_dict\u001b[0;34m(pickler, obj)\u001b[0m\n\u001b[1;32m   1183\u001b[0m     \u001b[38;5;28;01mif\u001b[39;00m is_dill(pickler, child\u001b[38;5;241m=\u001b[39m\u001b[38;5;28;01mFalse\u001b[39;00m) \u001b[38;5;129;01mand\u001b[39;00m pickler\u001b[38;5;241m.\u001b[39m_session:\n\u001b[1;32m   1184\u001b[0m         \u001b[38;5;66;03m# we only care about session the first pass thru\u001b[39;00m\n\u001b[1;32m   1185\u001b[0m         pickler\u001b[38;5;241m.\u001b[39m_first_pass \u001b[38;5;241m=\u001b[39m \u001b[38;5;28;01mFalse\u001b[39;00m\n\u001b[0;32m-> 1186\u001b[0m     \u001b[43mStockPickler\u001b[49m\u001b[38;5;241;43m.\u001b[39;49m\u001b[43msave_dict\u001b[49m\u001b[43m(\u001b[49m\u001b[43mpickler\u001b[49m\u001b[43m,\u001b[49m\u001b[43m \u001b[49m\u001b[43mobj\u001b[49m\u001b[43m)\u001b[49m\n\u001b[1;32m   1187\u001b[0m     logger\u001b[38;5;241m.\u001b[39mtrace(pickler, \u001b[38;5;124m\"\u001b[39m\u001b[38;5;124m# D2\u001b[39m\u001b[38;5;124m\"\u001b[39m)\n\u001b[1;32m   1188\u001b[0m \u001b[38;5;28;01mreturn\u001b[39;00m\n",
      "File \u001b[0;32m/data/leuven/338/vsc33838/miniconda3/envs/ibp-2022-env/lib/python3.9/pickle.py:971\u001b[0m, in \u001b[0;36m_Pickler.save_dict\u001b[0;34m(self, obj)\u001b[0m\n\u001b[1;32m    968\u001b[0m     \u001b[38;5;28mself\u001b[39m\u001b[38;5;241m.\u001b[39mwrite(MARK \u001b[38;5;241m+\u001b[39m DICT)\n\u001b[1;32m    970\u001b[0m \u001b[38;5;28mself\u001b[39m\u001b[38;5;241m.\u001b[39mmemoize(obj)\n\u001b[0;32m--> 971\u001b[0m \u001b[38;5;28;43mself\u001b[39;49m\u001b[38;5;241;43m.\u001b[39;49m\u001b[43m_batch_setitems\u001b[49m\u001b[43m(\u001b[49m\u001b[43mobj\u001b[49m\u001b[38;5;241;43m.\u001b[39;49m\u001b[43mitems\u001b[49m\u001b[43m(\u001b[49m\u001b[43m)\u001b[49m\u001b[43m)\u001b[49m\n",
      "File \u001b[0;32m/data/leuven/338/vsc33838/miniconda3/envs/ibp-2022-env/lib/python3.9/pickle.py:997\u001b[0m, in \u001b[0;36m_Pickler._batch_setitems\u001b[0;34m(self, items)\u001b[0m\n\u001b[1;32m    995\u001b[0m     \u001b[38;5;28;01mfor\u001b[39;00m k, v \u001b[38;5;129;01min\u001b[39;00m tmp:\n\u001b[1;32m    996\u001b[0m         save(k)\n\u001b[0;32m--> 997\u001b[0m         \u001b[43msave\u001b[49m\u001b[43m(\u001b[49m\u001b[43mv\u001b[49m\u001b[43m)\u001b[49m\n\u001b[1;32m    998\u001b[0m     write(SETITEMS)\n\u001b[1;32m    999\u001b[0m \u001b[38;5;28;01melif\u001b[39;00m n:\n",
      "File \u001b[0;32m/data/leuven/338/vsc33838/miniconda3/envs/ibp-2022-env/lib/python3.9/site-packages/dill/_dill.py:388\u001b[0m, in \u001b[0;36mPickler.save\u001b[0;34m(self, obj, save_persistent_id)\u001b[0m\n\u001b[1;32m    386\u001b[0m     msg \u001b[38;5;241m=\u001b[39m \u001b[38;5;124m\"\u001b[39m\u001b[38;5;124mCan\u001b[39m\u001b[38;5;124m'\u001b[39m\u001b[38;5;124mt pickle \u001b[39m\u001b[38;5;132;01m%s\u001b[39;00m\u001b[38;5;124m: attribute lookup builtins.generator failed\u001b[39m\u001b[38;5;124m\"\u001b[39m \u001b[38;5;241m%\u001b[39m GeneratorType\n\u001b[1;32m    387\u001b[0m     \u001b[38;5;28;01mraise\u001b[39;00m PicklingError(msg)\n\u001b[0;32m--> 388\u001b[0m \u001b[43mStockPickler\u001b[49m\u001b[38;5;241;43m.\u001b[39;49m\u001b[43msave\u001b[49m\u001b[43m(\u001b[49m\u001b[38;5;28;43mself\u001b[39;49m\u001b[43m,\u001b[49m\u001b[43m \u001b[49m\u001b[43mobj\u001b[49m\u001b[43m,\u001b[49m\u001b[43m \u001b[49m\u001b[43msave_persistent_id\u001b[49m\u001b[43m)\u001b[49m\n",
      "File \u001b[0;32m/data/leuven/338/vsc33838/miniconda3/envs/ibp-2022-env/lib/python3.9/pickle.py:560\u001b[0m, in \u001b[0;36m_Pickler.save\u001b[0;34m(self, obj, save_persistent_id)\u001b[0m\n\u001b[1;32m    558\u001b[0m f \u001b[38;5;241m=\u001b[39m \u001b[38;5;28mself\u001b[39m\u001b[38;5;241m.\u001b[39mdispatch\u001b[38;5;241m.\u001b[39mget(t)\n\u001b[1;32m    559\u001b[0m \u001b[38;5;28;01mif\u001b[39;00m f \u001b[38;5;129;01mis\u001b[39;00m \u001b[38;5;129;01mnot\u001b[39;00m \u001b[38;5;28;01mNone\u001b[39;00m:\n\u001b[0;32m--> 560\u001b[0m     \u001b[43mf\u001b[49m\u001b[43m(\u001b[49m\u001b[38;5;28;43mself\u001b[39;49m\u001b[43m,\u001b[49m\u001b[43m \u001b[49m\u001b[43mobj\u001b[49m\u001b[43m)\u001b[49m  \u001b[38;5;66;03m# Call unbound method with explicit self\u001b[39;00m\n\u001b[1;32m    561\u001b[0m     \u001b[38;5;28;01mreturn\u001b[39;00m\n\u001b[1;32m    563\u001b[0m \u001b[38;5;66;03m# Check private dispatch table if any, or else\u001b[39;00m\n\u001b[1;32m    564\u001b[0m \u001b[38;5;66;03m# copyreg.dispatch_table\u001b[39;00m\n",
      "File \u001b[0;32m/data/leuven/338/vsc33838/miniconda3/envs/ibp-2022-env/lib/python3.9/site-packages/dill/_dill.py:380\u001b[0m, in \u001b[0;36mPickler.save.<locals>.save_numpy_array\u001b[0;34m(pickler, obj)\u001b[0m\n\u001b[1;32m    378\u001b[0m logger\u001b[38;5;241m.\u001b[39mtrace(pickler, \u001b[38;5;124m\"\u001b[39m\u001b[38;5;124mNu: (\u001b[39m\u001b[38;5;132;01m%s\u001b[39;00m\u001b[38;5;124m, \u001b[39m\u001b[38;5;132;01m%s\u001b[39;00m\u001b[38;5;124m)\u001b[39m\u001b[38;5;124m\"\u001b[39m, obj\u001b[38;5;241m.\u001b[39mshape, obj\u001b[38;5;241m.\u001b[39mdtype)\n\u001b[1;32m    379\u001b[0m npdict \u001b[38;5;241m=\u001b[39m \u001b[38;5;28mgetattr\u001b[39m(obj, \u001b[38;5;124m'\u001b[39m\u001b[38;5;124m__dict__\u001b[39m\u001b[38;5;124m'\u001b[39m, \u001b[38;5;28;01mNone\u001b[39;00m)\n\u001b[0;32m--> 380\u001b[0m f, args, state \u001b[38;5;241m=\u001b[39m \u001b[43mobj\u001b[49m\u001b[38;5;241;43m.\u001b[39;49m\u001b[43m__reduce__\u001b[49m\u001b[43m(\u001b[49m\u001b[43m)\u001b[49m\n\u001b[1;32m    381\u001b[0m pickler\u001b[38;5;241m.\u001b[39msave_reduce(_create_array, (f,args,state,npdict), obj\u001b[38;5;241m=\u001b[39mobj)\n\u001b[1;32m    382\u001b[0m logger\u001b[38;5;241m.\u001b[39mtrace(pickler, \u001b[38;5;124m\"\u001b[39m\u001b[38;5;124m# Nu\u001b[39m\u001b[38;5;124m\"\u001b[39m)\n",
      "\u001b[0;31mMemoryError\u001b[0m: "
     ]
    }
   ],
   "source": [
    "from scenicplus.wrappers.run_scenicplus import run_scenicplus\n",
    "try:\n",
    "    sys.stderr = open(os.path.join(scratch_dir, 'err2.log'), \"w\")\n",
    "    run_scenicplus(\n",
    "        scplus_obj = scplus_obj,\n",
    "        variable = ['celltype'],\n",
    "        species = 'hsapiens',\n",
    "        assembly = 'hg38',\n",
    "        tf_file = os.path.join(local_state_dir, 'TF_names_v_1.01.txt'),\n",
    "        save_path = os.path.join(scratch_dir, 'scenicplus'),\n",
    "        biomart_host = biomart_host,\n",
    "        upstream = [1000, 150000],\n",
    "        downstream = [1000, 150000],\n",
    "        calculate_TF_eGRN_correlation = True,\n",
    "        calculate_DEGs_DARs = True,\n",
    "        export_to_loom_file = True,\n",
    "        export_to_UCSC_file = True,\n",
    "        path_bedToBigBed = os.path.join(local_state_dir, 'bin'),\n",
    "        n_cpu = 32,\n",
    "        _temp_dir = os.path.join(scratch_dir, 'ray_spill'))\n",
    "except Exception as e:\n",
    "    #in case of failure, still save the object\n",
    "    dill.dump(scplus_obj, open(os.path.join(scratch_dir, 'scenicplus/scplus_obj.pkl'), 'wb'), protocol=-1)\n",
    "    raise(e)"
   ]
  },
  {
   "cell_type": "code",
   "execution_count": null,
   "id": "0aee5f96-7f60-4eae-aba2-ba39a5dcee6a",
   "metadata": {},
   "outputs": [
    {
     "name": "stdout",
     "output_type": "stream",
     "text": [
      "2022-11-09 10:45:44,267 SCENIC+_wrapper INFO     Created folder : /scratch/leuven/338/vsc33838/scenicplus\n",
      "2022-11-09 10:45:44,269 SCENIC+_wrapper INFO     Merging cistromes\n",
      "2022-11-09 10:49:27,947 SCENIC+_wrapper INFO     Getting search space\n",
      "2022-11-09 10:49:30,718 R2G          INFO     Downloading gene annotation from biomart dataset: hsapiens_gene_ensembl\n",
      "2022-11-09 10:49:43,941 R2G          INFO     Downloading chromosome sizes from: http://hgdownload.cse.ucsc.edu/goldenPath/hg38/bigZips/hg38.chrom.sizes\n",
      "2022-11-09 10:49:45,453 R2G          INFO     Extending promoter annotation to 10 bp upstream and 10 downstream\n",
      "2022-11-09 10:49:47,582 R2G          INFO     Extending search space to:\n",
      "            \t\t\t\t\t\t150000 bp downstream of the end of the gene.\n",
      "            \t\t\t\t\t\t150000 bp upstream of the start of the gene.\n",
      "2022-11-09 10:50:04,642 R2G          INFO     Intersecting with regions.\n",
      "2022-11-09 10:50:06,081 R2G          INFO     Calculating distances from region to gene\n",
      "2022-11-09 10:53:34,825 R2G          INFO     Imploding multiple entries per region and gene\n",
      "2022-11-09 11:00:58,142 R2G          INFO     Done!\n",
      "2022-11-09 11:00:58,953 SCENIC+_wrapper INFO     Inferring region to gene relationships\n",
      "2022-11-09 11:00:59,491 R2G          INFO     Calculating region to gene importances, using GBM method\n",
      "2022-11-09 11:42:16,991 R2G          INFO     Took 2477.498788356781 seconds\n",
      "2022-11-09 11:42:16,997 R2G          INFO     Calculating region to gene correlation, using SR method\n",
      "2022-11-09 12:22:54,414 R2G          INFO     Took 2437.416736125946 seconds\n",
      "2022-11-09 12:23:09,154 R2G          INFO     Done!\n",
      "2022-11-09 12:23:09,622 SCENIC+_wrapper INFO     Inferring TF to gene relationships\n",
      "2022-11-09 12:23:39,396 TF2G         INFO     Calculating TF to gene correlation, using GBM method\n",
      "2022-11-09 16:33:02,981 TF2G         INFO     Took 14963.581913948059 seconds\n",
      "2022-11-09 16:33:02,986 TF2G         INFO     Adding correlation coefficients to adjacencies.\n",
      "2022-11-09 16:35:13,546 TF2G         INFO     Warning: adding TFs as their own target to adjecencies matrix. Importance values will be max + 1e-05\n",
      "2022-11-09 16:35:55,684 TF2G         INFO     Adding importance x rho scores to adjacencies.\n",
      "2022-11-09 16:35:55,808 TF2G         INFO     Took 172.8217465877533 seconds\n",
      "2022-11-09 16:35:56,449 SCENIC+_wrapper INFO     Build eGRN\n",
      "2022-11-09 16:35:56,450 GSEA         INFO     Thresholding region to gene relationships\n"
     ]
    }
   ],
   "source": [
    "from scenicplus.wrappers.run_scenicplus import run_scenicplus\n",
    "try:\n",
    "    sys.stderr = open(os.path.join(scratch_dir, 'err2.log'), \"w\")\n",
    "    run_scenicplus(\n",
    "        scplus_obj = scplus_obj,\n",
    "        variable = ['celltype'],\n",
    "        species = 'hsapiens',\n",
    "        assembly = 'hg38',\n",
    "        tf_file = os.path.join(local_state_dir, 'TF_names_v_1.01.txt'),\n",
    "        save_path = os.path.join(scratch_dir, 'scenicplus'),\n",
    "        biomart_host = biomart_host,\n",
    "        upstream = [1000, 150000],\n",
    "        downstream = [1000, 150000],\n",
    "        calculate_TF_eGRN_correlation = True,\n",
    "        calculate_DEGs_DARs = True,\n",
    "        export_to_loom_file = True,\n",
    "        export_to_UCSC_file = True,\n",
    "        path_bedToBigBed = os.path.join(local_state_dir, 'bin'),\n",
    "        n_cpu = 46,\n",
    "        _temp_dir = os.path.join(scratch_dir, 'ray_spill'))\n",
    "except Exception as e:\n",
    "    #in case of failure, still save the object\n",
    "    pickle.dump(scplus_obj, open(os.path.join(scratch_dir, 'scenicplus/scplus_obj_f.pkl'), 'wb'), protocol=-1)\n",
    "    raise(e)"
   ]
  },
  {
   "cell_type": "code",
   "execution_count": null,
   "id": "cf579b22-fcd9-4e0f-bcfd-b41abae679ec",
   "metadata": {},
   "outputs": [
    {
     "name": "stdout",
     "output_type": "stream",
     "text": [
      "2022-11-09 19:51:07,600 SCENIC+_wrapper INFO     /scratch/leuven/338/vsc33838/scenicplus folder already exists.\n",
      "2022-11-09 19:51:07,602 SCENIC+_wrapper INFO     Merging cistromes\n",
      "2022-11-09 19:54:48,714 SCENIC+_wrapper INFO     Getting search space\n",
      "2022-11-09 19:54:51,355 R2G          INFO     Downloading gene annotation from biomart dataset: hsapiens_gene_ensembl\n",
      "2022-11-09 19:55:03,034 R2G          INFO     Downloading chromosome sizes from: http://hgdownload.cse.ucsc.edu/goldenPath/hg38/bigZips/hg38.chrom.sizes\n",
      "2022-11-09 19:55:05,138 R2G          INFO     Extending promoter annotation to 10 bp upstream and 10 downstream\n",
      "2022-11-09 19:55:07,256 R2G          INFO     Extending search space to:\n",
      "            \t\t\t\t\t\t150000 bp downstream of the end of the gene.\n",
      "            \t\t\t\t\t\t150000 bp upstream of the start of the gene.\n",
      "2022-11-09 19:55:24,031 R2G          INFO     Intersecting with regions.\n",
      "2022-11-09 19:55:25,475 R2G          INFO     Calculating distances from region to gene\n",
      "2022-11-09 19:58:55,826 R2G          INFO     Imploding multiple entries per region and gene\n",
      "2022-11-09 20:06:12,939 R2G          INFO     Done!\n",
      "2022-11-09 20:06:13,699 SCENIC+_wrapper INFO     Inferring region to gene relationships\n",
      "2022-11-09 20:06:14,203 R2G          INFO     Calculating region to gene importances, using GBM method\n",
      "2022-11-09 20:47:32,614 R2G          INFO     Took 2478.4097571372986 seconds\n",
      "2022-11-09 20:47:32,618 R2G          INFO     Calculating region to gene correlation, using SR method\n",
      "2022-11-09 21:28:19,950 R2G          INFO     Took 2447.3305497169495 seconds\n",
      "2022-11-09 21:28:34,769 R2G          INFO     Done!\n",
      "2022-11-09 21:28:35,169 SCENIC+_wrapper INFO     Inferring TF to gene relationships\n",
      "2022-11-09 21:29:08,377 TF2G         INFO     Calculating TF to gene correlation, using GBM method\n"
     ]
    }
   ],
   "source": [
    "from scenicplus.wrappers.run_scenicplus import run_scenicplus\n",
    "try:\n",
    "    sys.stderr = open(os.path.join(scratch_dir, 'err3.log'), \"w\")\n",
    "    run_scenicplus(\n",
    "        scplus_obj = scplus_obj,\n",
    "        variable = ['celltype'],\n",
    "        species = 'hsapiens',\n",
    "        assembly = 'hg38',\n",
    "        tf_file = os.path.join(local_state_dir, 'TF_names_v_1.01.txt'),\n",
    "        save_path = os.path.join(scratch_dir, 'scenicplus'),\n",
    "        biomart_host = biomart_host,\n",
    "        upstream = [1000, 150000],\n",
    "        downstream = [1000, 150000],\n",
    "        calculate_TF_eGRN_correlation = True,\n",
    "        calculate_DEGs_DARs = True,\n",
    "        export_to_loom_file = True,\n",
    "        export_to_UCSC_file = True,\n",
    "        path_bedToBigBed = os.path.join(local_state_dir, 'bin'),\n",
    "        n_cpu = 46,\n",
    "        _temp_dir = os.path.join(scratch_dir, 'ray_spill'))\n",
    "except Exception as e:\n",
    "    #in case of failure, still save the object\n",
    "    pickle.dump(scplus_obj, open(os.path.join(scratch_dir, 'scenicplus/scplus_obj_f.pkl'), 'wb'), protocol=-1)\n",
    "    raise(e)"
   ]
  },
  {
   "cell_type": "code",
   "execution_count": null,
   "id": "991ee455-2613-4532-9efc-33317bbf0c38",
   "metadata": {},
   "outputs": [
    {
     "name": "stdout",
     "output_type": "stream",
     "text": [
      "2022-11-11 11:33:47,982 SCENIC+_wrapper INFO     /scratch/leuven/338/vsc33838/scenicplus folder already exists.\n",
      "2022-11-11 11:33:47,984 SCENIC+_wrapper INFO     Merging cistromes\n",
      "2022-11-11 11:37:25,335 SCENIC+_wrapper INFO     Getting search space\n",
      "2022-11-11 11:37:28,765 R2G          INFO     Downloading gene annotation from biomart dataset: hsapiens_gene_ensembl\n",
      "2022-11-11 11:37:42,849 R2G          INFO     Downloading chromosome sizes from: http://hgdownload.cse.ucsc.edu/goldenPath/hg38/bigZips/hg38.chrom.sizes\n",
      "2022-11-11 11:37:44,376 R2G          INFO     Extending promoter annotation to 10 bp upstream and 10 downstream\n",
      "2022-11-11 11:37:46,485 R2G          INFO     Extending search space to:\n",
      "            \t\t\t\t\t\t150000 bp downstream of the end of the gene.\n",
      "            \t\t\t\t\t\t150000 bp upstream of the start of the gene.\n",
      "2022-11-11 11:38:02,635 R2G          INFO     Intersecting with regions.\n",
      "2022-11-11 11:38:04,079 R2G          INFO     Calculating distances from region to gene\n",
      "2022-11-11 11:41:29,234 R2G          INFO     Imploding multiple entries per region and gene\n",
      "2022-11-11 11:48:45,022 R2G          INFO     Done!\n",
      "2022-11-11 11:48:45,819 SCENIC+_wrapper INFO     Inferring region to gene relationships\n",
      "2022-11-11 11:48:46,328 R2G          INFO     Calculating region to gene importances, using GBM method\n",
      "2022-11-11 12:40:11,190 R2G          INFO     Took 3084.860183954239 seconds\n",
      "2022-11-11 12:40:11,192 R2G          INFO     Calculating region to gene correlation, using SR method\n",
      "2022-11-11 13:19:22,528 R2G          INFO     Took 2351.3346767425537 seconds\n",
      "2022-11-11 13:19:37,108 R2G          INFO     Done!\n",
      "2022-11-11 13:19:37,487 SCENIC+_wrapper INFO     Inferring TF to gene relationships\n",
      "2022-11-11 13:19:53,866 TF2G         INFO     Calculating TF to gene correlation, using GBM method\n"
     ]
    }
   ],
   "source": [
    "# LAST TRY\n",
    "from scenicplus.wrappers.run_scenicplus import run_scenicplus\n",
    "try:\n",
    "    sys.stderr = open(os.path.join(scratch_dir, 'err6.log'), \"w\")\n",
    "    run_scenicplus(\n",
    "        scplus_obj = scplus_obj,\n",
    "        variable = ['celltype'],\n",
    "        species = 'hsapiens',\n",
    "        assembly = 'hg38',\n",
    "        tf_file = os.path.join(local_state_dir, 'TF_names_v_1.01.txt'),\n",
    "        save_path = os.path.join(scratch_dir, 'scenicplus'),\n",
    "        biomart_host = biomart_host,\n",
    "        upstream = [1000, 150000],\n",
    "        downstream = [1000, 150000],\n",
    "        calculate_TF_eGRN_correlation = True,\n",
    "        calculate_DEGs_DARs = True,\n",
    "        export_to_loom_file = True,\n",
    "        export_to_UCSC_file = True,\n",
    "        path_bedToBigBed = os.path.join(local_state_dir, 'bin'),\n",
    "        n_cpu = 20,\n",
    "        _temp_dir = os.path.join(scratch_dir, 'ray_spill'))\n",
    "except Exception as e:\n",
    "    #in case of failure, still save the object\n",
    "    pickle.dump(scplus_obj, open(os.path.join(scratch_dir, 'scenicplus/scplus_obj_f.pkl'), 'wb'), protocol=-1)\n",
    "    raise(e)"
   ]
  },
  {
   "cell_type": "markdown",
   "id": "f5d59d2b-59ee-4cf0-b138-c22ca29b5524",
   "metadata": {
    "tags": []
   },
   "source": [
    "# Checkpoint"
   ]
  },
  {
   "cell_type": "code",
   "execution_count": 8,
   "id": "2a12950a-16e6-4fd4-98eb-b0a2ae3deac1",
   "metadata": {},
   "outputs": [
    {
     "data": {
      "text/plain": [
       "SCENIC+ object with n_cells x n_genes = 11804 x 36066 and n_cells x n_regions = 11804 x 820223\n",
       "\tmetadata_regions:'Chromosome', 'Start', 'End', 'Width', 'cisTopic_nr_frag', 'cisTopic_log_nr_frag', 'cisTopic_nr_acc', 'cisTopic_log_nr_acc'\n",
       "\tmetadata_genes:'n_cells', 'n_cells_by_counts', 'mean_counts', 'pct_dropout_by_counts', 'total_counts'\n",
       "\tmetadata_cell:'celltype'\n",
       "\tmenr:'CTX_topics_otsu_All', 'CTX_topics_otsu_No_promoters', 'DEM_topics_otsu_All', 'DEM_topics_otsu_No_promoters', 'CTX_topics_top_3_All', 'CTX_topics_top_3_No_promoters', 'DEM_topics_top_3_All', 'DEM_topics_top_3_No_promoters', 'CTX_DARs_All', 'CTX_DARs_No_promoters', 'DEM_DARs_All', 'DEM_DARs_No_promoters'"
      ]
     },
     "execution_count": 8,
     "metadata": {},
     "output_type": "execute_result"
    }
   ],
   "source": [
    "scplus_obj"
   ]
  },
  {
   "cell_type": "code",
   "execution_count": null,
   "id": "7d844fbf-82b5-45ef-9de8-3c780a0ed8e3",
   "metadata": {},
   "outputs": [],
   "source": [
    "pickle.dump(scplus_obj, open(os.path.join(scratch_dir, 'scenicplus/scplus_obj_f.pkl'), 'wb'), protocol=-1)"
   ]
  },
  {
   "cell_type": "code",
   "execution_count": null,
   "id": "a652d70d-4c83-4f3b-9a36-5b9b3d2fd779",
   "metadata": {},
   "outputs": [],
   "source": [
    "import dill\n",
    "scplus_obj = dill.load(open(os.path.join(scratch_dir, 'scenicplus/scplus_obj.pkl'), 'rb'))"
   ]
  },
  {
   "cell_type": "markdown",
   "id": "58aea82e-209f-4d7b-bcb8-2bb0f2d8ea02",
   "metadata": {},
   "source": [
    "# Downstream "
   ]
  },
  {
   "cell_type": "code",
   "execution_count": null,
   "id": "b682ab34-a60b-4de5-9677-43597850ab47",
   "metadata": {},
   "outputs": [],
   "source": [
    "from scenicplus.preprocessing.filtering import apply_std_filtering_to_eRegulons\n",
    "apply_std_filtering_to_eRegulons(scplus_obj)\n",
    "scplus_obj.uns['eRegulon_metadata_filtered'].head()"
   ]
  },
  {
   "cell_type": "code",
   "execution_count": null,
   "id": "0aaffb74-8137-4b67-b389-3f3efd48bb83",
   "metadata": {},
   "outputs": [],
   "source": [
    "from scenicplus.eregulon_enrichment import score_eRegulons\n",
    "region_ranking = dill.load(open(os.path.join(work_dir, 'scenicplus/region_ranking.pkl'), 'rb')) #load ranking calculated using the wrapper function\n",
    "gene_ranking = dill.load(open(os.path.join(work_dir, 'scenicplus/gene_ranking.pkl'), 'rb')) #load ranking calculated using the wrapper function\n",
    "score_eRegulons(scplus_obj,\n",
    "                ranking = region_ranking,\n",
    "                eRegulon_signatures_key = 'eRegulon_signatures_filtered',\n",
    "                key_added = 'eRegulon_AUC_filtered',\n",
    "                enrichment_type= 'region',\n",
    "                auc_threshold = 0.05,\n",
    "                normalize = False,\n",
    "                n_cpu = 5)\n",
    "score_eRegulons(scplus_obj,\n",
    "                gene_ranking,\n",
    "                eRegulon_signatures_key = 'eRegulon_signatures_filtered',\n",
    "                key_added = 'eRegulon_AUC_filtered',\n",
    "                enrichment_type = 'gene',\n",
    "                auc_threshold = 0.05,\n",
    "                normalize= False,\n",
    "                n_cpu = 5)"
   ]
  },
  {
   "cell_type": "code",
   "execution_count": null,
   "id": "292af3e5-6c83-4bcb-9a01-317b10ca9a62",
   "metadata": {},
   "outputs": [],
   "source": [
    "from scenicplus.RSS import *\n",
    "regulon_specificity_scores(\n",
    "        scplus_obj,\n",
    "        variable = 'GEX_celltype',\n",
    "        auc_key = 'eRegulon_AUC_filtered',\n",
    "        signature_keys = ['Region_based'],\n",
    "        selected_regulons = [x for x in scplus_obj.uns['selected_eRegulon']['Region_based'] if '-' not in x],\n",
    "        out_key_suffix = '_filtered')"
   ]
  },
  {
   "cell_type": "code",
   "execution_count": null,
   "id": "892fbf5f-c4c4-4672-aa24-be5b928c5a57",
   "metadata": {},
   "outputs": [],
   "source": [
    "plot_rss(scplus_obj, 'GEX_celltype_filtered', num_columns=2, top_n=10, figsize = (5, 10))"
   ]
  }
 ],
 "metadata": {
  "kernelspec": {
   "display_name": "ibp-2022-env",
   "language": "python",
   "name": "ibp-2022-env"
  },
  "language_info": {
   "codemirror_mode": {
    "name": "ipython",
    "version": 3
   },
   "file_extension": ".py",
   "mimetype": "text/x-python",
   "name": "python",
   "nbconvert_exporter": "python",
   "pygments_lexer": "ipython3",
   "version": "3.9.13"
  }
 },
 "nbformat": 4,
 "nbformat_minor": 5
}
